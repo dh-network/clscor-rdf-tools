{
 "cells": [
  {
   "cell_type": "code",
   "execution_count": 1,
   "id": "6ff48d40",
   "metadata": {},
   "outputs": [],
   "source": [
    "import logging\n",
    "logging.basicConfig(level=logging.DEBUG)"
   ]
  },
  {
   "cell_type": "code",
   "execution_count": 2,
   "id": "d58007bc",
   "metadata": {},
   "outputs": [],
   "source": [
    "# Import some classes form the cidoc and crmcls modules\n",
    "from cidoc import E42Identifier, E41Appellation, E55Type \n",
    "from crmcls import X1Corpus"
   ]
  },
  {
   "cell_type": "code",
   "execution_count": 3,
   "id": "d98a370a",
   "metadata": {},
   "outputs": [],
   "source": [
    "# Create an instance of the X1 Corpus class, add a rdfs:label\n",
    "eltec_en_corpus = X1Corpus(\n",
    "    uri=\"https://eltec.clscor.io/entity/corpus\",\n",
    "    labels=[{\"lang\": \"en\", \"label\": \"English ELTeC Corpus\"}]) "
   ]
  },
  {
   "cell_type": "code",
   "execution_count": 4,
   "id": "4618a0ee",
   "metadata": {},
   "outputs": [
    {
     "data": {
      "text/plain": [
       "<Graph identifier=N68e9813b1df141b88d77f6b6abf31a65 (<class 'rdflib.graph.Graph'>)>"
      ]
     },
     "execution_count": 4,
     "metadata": {},
     "output_type": "execute_result"
    }
   ],
   "source": [
    "# this automatically creates a rdflib.graph (attribute \"graph\") that can be accessed\n",
    "eltec_en_corpus.graph"
   ]
  },
  {
   "cell_type": "code",
   "execution_count": 5,
   "id": "ef0d8f39",
   "metadata": {},
   "outputs": [
    {
     "name": "stdout",
     "output_type": "stream",
     "text": [
      "@prefix cls: <https://clscor.io/ontologies/CRMcls/> .\n",
      "@prefix rdfs: <http://www.w3.org/2000/01/rdf-schema#> .\n",
      "\n",
      "<https://eltec.clscor.io/entity/corpus> a cls:X1_Corpus ;\n",
      "    rdfs:label \"English ELTeC Corpus\" .\n",
      "\n",
      "\n"
     ]
    }
   ],
   "source": [
    "# Serialize the graph. Does the same as eltec_en_corpus.graph.serialize()\n",
    "print(eltec_en_corpus.serialize())"
   ]
  },
  {
   "cell_type": "code",
   "execution_count": 6,
   "id": "08112549",
   "metadata": {},
   "outputs": [
    {
     "name": "stdout",
     "output_type": "stream",
     "text": [
      "@prefix crm: <http://www.cidoc-crm.org/cidoc-crm/> .\n",
      "\n",
      "<https://eltec.clscor.io/entity/corpus/id> a crm:E42_Identifier ;\n",
      "    crm:P190_has_symbolic_content \"eltec_en\" .\n",
      "\n",
      "\n"
     ]
    }
   ],
   "source": [
    "# Create an identifier of class crm: E42 Identifier\n",
    "corpus_identifier = E42Identifier(uri=\"https://eltec.clscor.io/entity/corpus/id\")\n",
    "\n",
    "# Add a value to the identifier. The properties get interited. The property P190 is inherited from E90 Symbolic Object\n",
    "# and becomes available with its child class E42 Identifier\n",
    "corpus_identifier.p190_has_symbolic_content(\"eltec_en\")\n",
    "\n",
    "print(corpus_identifier.serialize())"
   ]
  },
  {
   "cell_type": "code",
   "execution_count": 7,
   "id": "992f4620",
   "metadata": {},
   "outputs": [
    {
     "data": {
      "text/plain": [
       "True"
      ]
     },
     "execution_count": 7,
     "metadata": {},
     "output_type": "execute_result"
    }
   ],
   "source": [
    "# Create a E55 Type and attach it to the identifier\n",
    "id_type = E55Type(\n",
    "    uri=\"https://types.clscor.io/entity/id\", \n",
    "    labels=[{\"lang\":\"en\", \"label\": \"ID\"}]\n",
    ")\n",
    "\n",
    "corpus_identifier.p2_has_type(id_type)"
   ]
  },
  {
   "cell_type": "code",
   "execution_count": 8,
   "id": "ae4d67fa",
   "metadata": {},
   "outputs": [
    {
     "data": {
      "text/plain": [
       "True"
      ]
     },
     "execution_count": 8,
     "metadata": {},
     "output_type": "execute_result"
    }
   ],
   "source": [
    "# Attach the identifier to the corpus\n",
    "eltec_en_corpus.p1_is_identified_by(corpus_identifier)"
   ]
  },
  {
   "cell_type": "code",
   "execution_count": 9,
   "id": "5fed7c98",
   "metadata": {},
   "outputs": [
    {
     "name": "stdout",
     "output_type": "stream",
     "text": [
      "@prefix cls: <https://clscor.io/ontologies/CRMcls/> .\n",
      "@prefix crm: <http://www.cidoc-crm.org/cidoc-crm/> .\n",
      "@prefix rdfs: <http://www.w3.org/2000/01/rdf-schema#> .\n",
      "\n",
      "<https://eltec.clscor.io/entity/corpus> a cls:X1_Corpus ;\n",
      "    rdfs:label \"English ELTeC Corpus\" ;\n",
      "    crm:P1_is_identified_by <https://eltec.clscor.io/entity/corpus/id> .\n",
      "\n",
      "<https://types.clscor.io/entity/id> a crm:E55_Type ;\n",
      "    rdfs:label \"ID\" ;\n",
      "    crm:P2i_is_type_of <https://eltec.clscor.io/entity/corpus/id> .\n",
      "\n",
      "<https://eltec.clscor.io/entity/corpus/id> a crm:E42_Identifier ;\n",
      "    crm:P190_has_symbolic_content \"eltec_en\" ;\n",
      "    crm:P1i_identifies <https://eltec.clscor.io/entity/corpus> ;\n",
      "    crm:P2_has_type <https://types.clscor.io/entity/id> .\n",
      "\n",
      "\n"
     ]
    }
   ],
   "source": [
    "# See the result. The inverse relations are automatically added.\n",
    "print(eltec_en_corpus.serialize())"
   ]
  },
  {
   "cell_type": "code",
   "execution_count": 10,
   "id": "cc493f9f",
   "metadata": {},
   "outputs": [],
   "source": [
    "# Create two more types \"Corpus Name\", \"Acronym\"\n",
    "corpusname_type = E55Type(\n",
    "    uri=\"https://types.clscor.io/entity/corpus_name\", \n",
    "    labels=[{\"lang\":\"en\", \"label\": \"Corpus Name\"}]\n",
    ")\n",
    "\n",
    "acronym_type = E55Type(\n",
    "    uri=\"https://types.clscor.io/entity/acronym\", \n",
    "    labels=[{\"lang\":\"en\", \"label\": \"Acronym\"}]\n",
    ")"
   ]
  },
  {
   "cell_type": "code",
   "execution_count": 11,
   "id": "8bc12dc6",
   "metadata": {},
   "outputs": [
    {
     "data": {
      "text/plain": [
       "True"
      ]
     },
     "execution_count": 11,
     "metadata": {},
     "output_type": "execute_result"
    }
   ],
   "source": [
    "# Create \"Corpus Name\" and \"Acronym\" as E41 Appellations\n",
    "corpus_name = E41Appellation(uri=\"https://eltec.clscor.io/entity/corpus/corpus_name\")\n",
    "corpus_name.p190_has_symbolic_content(\"English ELTeC Corpus\")\n",
    "corpus_name.p2_has_type(corpusname_type)\n",
    "\n",
    "corpus_acronym = E41Appellation(uri=\"https://eltec.clscor.io/entity/corpus/acronym\")\n",
    "corpus_acronym.p190_has_symbolic_content(\"eltecen\")\n",
    "corpus_acronym.p2_has_type(acronym_type)\n"
   ]
  },
  {
   "cell_type": "code",
   "execution_count": 12,
   "id": "9cead771",
   "metadata": {},
   "outputs": [
    {
     "data": {
      "text/plain": [
       "True"
      ]
     },
     "execution_count": 12,
     "metadata": {},
     "output_type": "execute_result"
    }
   ],
   "source": [
    "# It is possible to connect multiple entities at once\n",
    "eltec_en_corpus.p1_is_identified_by(corpus_name, corpus_identifier)"
   ]
  },
  {
   "cell_type": "code",
   "execution_count": 13,
   "id": "0a4898a8",
   "metadata": {},
   "outputs": [
    {
     "name": "stdout",
     "output_type": "stream",
     "text": [
      "@prefix cls: <https://clscor.io/ontologies/CRMcls/> .\n",
      "@prefix crm: <http://www.cidoc-crm.org/cidoc-crm/> .\n",
      "@prefix rdfs: <http://www.w3.org/2000/01/rdf-schema#> .\n",
      "\n",
      "<https://types.clscor.io/entity/corpus_name> a crm:E55_Type ;\n",
      "    rdfs:label \"Corpus Name\" ;\n",
      "    crm:P2i_is_type_of <https://eltec.clscor.io/entity/corpus/corpus_name> .\n",
      "\n",
      "<https://types.clscor.io/entity/id> a crm:E55_Type ;\n",
      "    rdfs:label \"ID\" ;\n",
      "    crm:P2i_is_type_of <https://eltec.clscor.io/entity/corpus/id> .\n",
      "\n",
      "<https://eltec.clscor.io/entity/corpus> a cls:X1_Corpus ;\n",
      "    rdfs:label \"English ELTeC Corpus\" ;\n",
      "    crm:P1_is_identified_by <https://eltec.clscor.io/entity/corpus/corpus_name>,\n",
      "        <https://eltec.clscor.io/entity/corpus/id> .\n",
      "\n",
      "<https://eltec.clscor.io/entity/corpus/corpus_name> a crm:E41_Appellation ;\n",
      "    crm:P190_has_symbolic_content \"English ELTeC Corpus\" ;\n",
      "    crm:P1i_identifies <https://eltec.clscor.io/entity/corpus> ;\n",
      "    crm:P2_has_type <https://types.clscor.io/entity/corpus_name> .\n",
      "\n",
      "<https://eltec.clscor.io/entity/corpus/id> a crm:E42_Identifier ;\n",
      "    crm:P190_has_symbolic_content \"eltec_en\" ;\n",
      "    crm:P1i_identifies <https://eltec.clscor.io/entity/corpus> ;\n",
      "    crm:P2_has_type <https://types.clscor.io/entity/id> .\n",
      "\n",
      "\n"
     ]
    }
   ],
   "source": [
    "# See the result\n",
    "print(eltec_en_corpus.serialize())"
   ]
  }
 ],
 "metadata": {
  "kernelspec": {
   "display_name": "Python 3 (ipykernel)",
   "language": "python",
   "name": "python3"
  },
  "language_info": {
   "codemirror_mode": {
    "name": "ipython",
    "version": 3
   },
   "file_extension": ".py",
   "mimetype": "text/x-python",
   "name": "python",
   "nbconvert_exporter": "python",
   "pygments_lexer": "ipython3",
   "version": "3.9.12"
  }
 },
 "nbformat": 4,
 "nbformat_minor": 5
}
